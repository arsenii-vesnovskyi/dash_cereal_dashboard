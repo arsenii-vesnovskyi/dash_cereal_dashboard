{
 "cells": [
  {
   "cell_type": "markdown",
   "metadata": {},
   "source": [
    "# 1. Load the Data"
   ]
  },
  {
   "cell_type": "code",
   "execution_count": 2,
   "metadata": {},
   "outputs": [
    {
     "name": "stdout",
     "output_type": "stream",
     "text": [
      "            code  producer_product_id producer_version_id  lc product_name_ar  \\\n",
      "0  3168930010265                  NaN                 NaN  fr             NaN   \n",
      "1  3229820019307                  NaN                 NaN  fr             NaN   \n",
      "2       20003166                  NaN                 NaN  en             NaN   \n",
      "3  5411188124689                  NaN                 NaN  de             NaN   \n",
      "4  3229820782560                  NaN                 NaN  fr             NaN   \n",
      "\n",
      "  product_name_at product_name_bg        product_name_ca product_name_cs  \\\n",
      "0             NaN             NaN                    NaN             NaN   \n",
      "1             NaN             NaN                    NaN             NaN   \n",
      "2             NaN             NaN  Flocs de civada suaus             NaN   \n",
      "3             NaN             NaN                    NaN             NaN   \n",
      "4             NaN             NaN                    NaN             NaN   \n",
      "\n",
      "  product_name_da  ... sources_fields:org-database-usda:publication_date  \\\n",
      "0             NaN  ...                                               NaN   \n",
      "1             NaN  ...                                               NaN   \n",
      "2             NaN  ...                                               NaN   \n",
      "3             NaN  ...                                               NaN   \n",
      "4             NaN  ...                                               NaN   \n",
      "\n",
      "  sources_fields:org-gs1:gln sources_fields:org-gs1:gpcCategoryCode  \\\n",
      "0               3.502110e+12                             10000284.0   \n",
      "1                        NaN                                    NaN   \n",
      "2                        NaN                                    NaN   \n",
      "3                        NaN                                    NaN   \n",
      "4                        NaN                                    NaN   \n",
      "\n",
      "              sources_fields:org-gs1:gpcCategoryName  \\\n",
      "0  Produits Céréaliers - Prêt à Consommer (Longue...   \n",
      "1                                                NaN   \n",
      "2                                                NaN   \n",
      "3                                                NaN   \n",
      "4                                                NaN   \n",
      "\n",
      "  sources_fields:org-gs1:isAllergenRelevantDataProvided  \\\n",
      "0                                               True      \n",
      "1                                                NaN      \n",
      "2                                                NaN      \n",
      "3                                                NaN      \n",
      "4                                                NaN      \n",
      "\n",
      "  sources_fields:org-gs1:lastChangeDateTime sources_fields:org-gs1:partyName  \\\n",
      "0                 2023-06-26T15:42:51+02:00                   PEPSICO FRANCE   \n",
      "1                                       NaN                              NaN   \n",
      "2                                       NaN                              NaN   \n",
      "3                                       NaN                              NaN   \n",
      "4                                       NaN                              NaN   \n",
      "\n",
      "  sources_fields:org-gs1:productionVariantDescription  \\\n",
      "0                                                NaN    \n",
      "1                                                NaN    \n",
      "2                                                NaN    \n",
      "3                                                NaN    \n",
      "4                                                NaN    \n",
      "\n",
      "  sources_fields:org-gs1:publicationDateTime  \\\n",
      "0                  2023-06-26T15:42:51+02:00   \n",
      "1                                        NaN   \n",
      "2                                        NaN   \n",
      "3                                        NaN   \n",
      "4                                        NaN   \n",
      "\n",
      "                                        data_sources  \n",
      "0  App - yuka, Apps, Database - CodeOnline, Datab...  \n",
      "1  Database - FoodRepo / openfood.ch, Databases, ...  \n",
      "2  App - yuka, Apps, App - InFood, App - Open Foo...  \n",
      "3  Database - FoodRepo / openfood.ch, Databases, ...  \n",
      "4  Database - FoodRepo / openfood.ch, Databases, ...  \n",
      "\n",
      "[5 rows x 422 columns]\n"
     ]
    },
    {
     "name": "stderr",
     "output_type": "stream",
     "text": [
      "C:\\Users\\arsen\\AppData\\Local\\Temp\\ipykernel_860\\3728654597.py:4: DtypeWarning: Columns (0,2,4,5,6,8,9,11,14,15,16,17,18,19,21,22,23,24,25,26,27,28,30,31,32,33,34,35,36,37,38,39,40,41,42,43,45,46,47,48,51,52,53,54,55,57,58,59,60,61,62,63,64,65,66,67,68,75,85,88,89,91,92,93,96,97,98,99,100,101,102,105,106,107,109,110,112,115,116,117,118,119,120,121,122,123,124,125,126,127,129,130,131,132,133,134,135,136,141,147,151,155,159,163,167,171,175,179,183,189,191,193,195,197,199,201,205,211,213,215,217,219,221,227,229,231,233,235,237,239,241,243,245,249,251,255,259,263,267,271,273,275,277,279,281,285,287,291,295,299,303,305,309,311,313,315,317,321,323,325,327,336,337,338,342,343,344,348,349,350,351,352,353,354,355,356,357,358,359,360,361,362,363,364,365,366,367,368,369,370,371,372,373,374,375,378,379,380,381,382,383,384,385,386,387,388,389,390,407,408,409,411,412,415,416,417,418,419,420) have mixed types. Specify dtype option on import or set low_memory=False.\n",
      "  data = pd.read_csv('cereal_spain.csv', sep='\\t')\n"
     ]
    }
   ],
   "source": [
    "import pandas as pd\n",
    "\n",
    "# Load the filtered dataset with tab separator\n",
    "data = pd.read_csv('cereal_spain.csv', sep='\\t')\n",
    "\n",
    "# Display the first few rows of the dataset\n",
    "print(data.head())"
   ]
  },
  {
   "cell_type": "markdown",
   "metadata": {},
   "source": [
    "# 2. Explore the dataset"
   ]
  },
  {
   "cell_type": "markdown",
   "metadata": {},
   "source": [
    "Check the column names to identify which we can drop"
   ]
  },
  {
   "cell_type": "code",
   "execution_count": 3,
   "metadata": {},
   "outputs": [
    {
     "name": "stdout",
     "output_type": "stream",
     "text": [
      "['code', 'producer_product_id', 'producer_version_id', 'lc', 'product_name_ar', 'product_name_at', 'product_name_bg', 'product_name_ca', 'product_name_cs', 'product_name_da', 'product_name_de', 'product_name_el', 'product_name_en', 'product_name_es', 'product_name_et', 'product_name_fa', 'product_name_fi', 'product_name_fr', 'product_name_hr', 'product_name_hu', 'product_name_it', 'product_name_ko', 'product_name_la', 'product_name_lt', 'product_name_lv', 'product_name_nb', 'product_name_nl', 'product_name_no', 'product_name_pl', 'product_name_pt', 'product_name_ro', 'product_name_ru', 'product_name_sk', 'product_name_sl', 'product_name_sr', 'product_name_sv', 'product_name_tr', 'product_name_uk', 'product_name_xx', 'product_name_zh', 'abbreviated_product_name_fr', 'generic_name_ar', 'generic_name_bg', 'generic_name_bs', 'generic_name_ca', 'generic_name_cs', 'generic_name_da', 'generic_name_de', 'generic_name_el', 'generic_name_en', 'generic_name_es', 'generic_name_et', 'generic_name_fi', 'generic_name_fr', 'generic_name_hr', 'generic_name_hu', 'generic_name_it', 'generic_name_lt', 'generic_name_lv', 'generic_name_nl', 'generic_name_no', 'generic_name_pl', 'generic_name_pt', 'generic_name_ro', 'generic_name_ru', 'generic_name_sk', 'generic_name_sl', 'generic_name_sr', 'generic_name_sv', 'quantity', 'serving_size', 'packaging', 'packaging_tags', 'brands', 'brands_tags', 'brand_owner', 'categories', 'categories_tags', 'labels', 'labels_tags', 'countries', 'countries_tags', 'stores', 'stores_tags', 'obsolete', 'obsolete_since_date', 'origins', 'origins_tags', 'origin_de', 'origin_en', 'origin_es', 'origin_fr', 'origin_it', 'origin_nl', 'manufacturing_places', 'manufacturing_places_tags', 'producer_en', 'producer_es', 'producer_fr', 'producer_it', 'producer_nl', 'producer_pl', 'producer_ro', 'emb_codes', 'emb_codes_tags', 'ingredients_text_ar', 'ingredients_text_bg', 'ingredients_text_bs', 'ingredients_text_ca', 'ingredients_text_cs', 'ingredients_text_da', 'ingredients_text_de', 'ingredients_text_el', 'ingredients_text_en', 'ingredients_text_es', 'ingredients_text_et', 'ingredients_text_fi', 'ingredients_text_fr', 'ingredients_text_gl', 'ingredients_text_hr', 'ingredients_text_hu', 'ingredients_text_it', 'ingredients_text_la', 'ingredients_text_lt', 'ingredients_text_lv', 'ingredients_text_nl', 'ingredients_text_no', 'ingredients_text_pl', 'ingredients_text_pt', 'ingredients_text_ro', 'ingredients_text_ru', 'ingredients_text_sk', 'ingredients_text_sl', 'ingredients_text_sr', 'ingredients_text_sv', 'ingredients_text_uk', 'ingredients_text_zh', 'allergens', 'allergens_tags', 'traces', 'traces_tags', 'no_nutrition_data', 'nutrition_data_per', 'nutrition_data_prepared_per', 'energy-kj_value', 'energy-kj_unit', 'energy-kj_prepared_value', 'energy-kj_prepared_unit', 'energy-kcal_value', 'energy-kcal_unit', 'energy-kcal_prepared_value', 'energy-kcal_prepared_unit', 'fat_value', 'fat_unit', 'fat_prepared_value', 'fat_prepared_unit', 'saturated-fat_value', 'saturated-fat_unit', 'saturated-fat_prepared_value', 'saturated-fat_prepared_unit', 'carbohydrates_value', 'carbohydrates_unit', 'carbohydrates_prepared_value', 'carbohydrates_prepared_unit', 'sugars_value', 'sugars_unit', 'sugars_prepared_value', 'sugars_prepared_unit', 'fiber_value', 'fiber_unit', 'fiber_prepared_value', 'fiber_prepared_unit', 'proteins_value', 'proteins_unit', 'proteins_prepared_value', 'proteins_prepared_unit', 'salt_value', 'salt_unit', 'salt_prepared_value', 'salt_prepared_unit', 'sodium_value', 'sodium_unit', 'sodium_prepared_value', 'sodium_prepared_unit', 'alcohol_value', 'alcohol_unit', 'energy_value', 'energy_unit', 'energy_prepared_value', 'energy_prepared_unit', 'energy-from-fat_value', 'energy-from-fat_unit', 'myristic-acid_value', 'myristic-acid_unit', 'palmitic-acid_value', 'palmitic-acid_unit', 'arachidic-acid_value', 'arachidic-acid_unit', 'melissic-acid_value', 'melissic-acid_unit', 'unsaturated-fat_value', 'unsaturated-fat_unit', 'monounsaturated-fat_value', 'monounsaturated-fat_unit', 'omega-9-fat_value', 'omega-9-fat_unit', 'polyunsaturated-fat_value', 'polyunsaturated-fat_unit', 'omega-3-fat_value', 'omega-3-fat_unit', 'omega-6-fat_value', 'omega-6-fat_unit', 'alpha-linolenic-acid_value', 'alpha-linolenic-acid_unit', 'linoleic-acid_value', 'linoleic-acid_unit', 'gamma-linolenic-acid_value', 'gamma-linolenic-acid_unit', 'oleic-acid_value', 'oleic-acid_unit', 'gondoic-acid_value', 'gondoic-acid_unit', 'trans-fat_value', 'trans-fat_unit', 'cholesterol_value', 'cholesterol_unit', 'added-sugars_value', 'added-sugars_unit', 'added-sugars_prepared_value', 'added-sugars_prepared_unit', 'sucrose_value', 'sucrose_unit', 'lactose_value', 'lactose_unit', 'starch_value', 'starch_unit', 'polyols_value', 'polyols_unit', 'erythritol_value', 'erythritol_unit', 'soluble-fiber_value', 'soluble-fiber_unit', 'insoluble-fiber_value', 'insoluble-fiber_unit', 'vitamin-a_value', 'vitamin-a_unit', 'vitamin-d_value', 'vitamin-d_unit', 'vitamin-e_value', 'vitamin-e_unit', 'vitamin-c_value', 'vitamin-c_unit', 'vitamin-b1_value', 'vitamin-b1_unit', 'vitamin-b1_prepared_value', 'vitamin-b1_prepared_unit', 'vitamin-b2_value', 'vitamin-b2_unit', 'vitamin-b2_prepared_value', 'vitamin-b2_prepared_unit', 'vitamin-pp_value', 'vitamin-pp_unit', 'vitamin-pp_prepared_value', 'vitamin-pp_prepared_unit', 'vitamin-b6_value', 'vitamin-b6_unit', 'vitamin-b6_prepared_value', 'vitamin-b6_prepared_unit', 'vitamin-b9_value', 'vitamin-b9_unit', 'vitamin-b9_prepared_value', 'vitamin-b9_prepared_unit', 'folates_value', 'folates_unit', 'vitamin-b12_value', 'vitamin-b12_unit', 'vitamin-b12_prepared_value', 'vitamin-b12_prepared_unit', 'biotin_value', 'biotin_unit', 'biotin_prepared_value', 'biotin_prepared_unit', 'pantothenic-acid_value', 'pantothenic-acid_unit', 'pantothenic-acid_prepared_value', 'pantothenic-acid_prepared_unit', 'potassium_value', 'potassium_unit', 'calcium_value', 'calcium_unit', 'calcium_prepared_value', 'calcium_prepared_unit', 'phosphorus_value', 'phosphorus_unit', 'phosphorus_prepared_value', 'phosphorus_prepared_unit', 'iron_value', 'iron_unit', 'iron_prepared_value', 'iron_prepared_unit', 'magnesium_value', 'magnesium_unit', 'zinc_value', 'zinc_unit', 'copper_value', 'copper_unit', 'manganese_value', 'manganese_unit', 'selenium_value', 'selenium_unit', 'molybdenum_value', 'molybdenum_unit', 'iodine_value', 'iodine_unit', 'caffeine_value', 'caffeine_unit', 'ph_value', 'ph_unit', 'fruits-vegetables-nuts_value', 'fruits-vegetables-nuts_unit', 'fruits-vegetables-nuts-estimate_value', 'fruits-vegetables-nuts-estimate_unit', 'cocoa_value', 'cocoa_unit', 'carbon-footprint_value', 'carbon-footprint_unit', 'beta-glucan_value', 'beta-glucan_unit', 'packaging_1_number_of_units', 'packaging_1_shape', 'packaging_1_material', 'packaging_1_recycling', 'packaging_1_quantity_per_unit', 'packaging_1_weight_specified', 'packaging_1_weight_measured', 'packaging_2_number_of_units', 'packaging_2_shape', 'packaging_2_material', 'packaging_2_recycling', 'packaging_2_quantity_per_unit', 'packaging_2_weight_measured', 'packaging_3_number_of_units', 'packaging_3_shape', 'packaging_3_material', 'packaging_3_recycling', 'packaging_3_quantity_per_unit', 'packaging_3_weight_measured', 'packaging_4_number_of_units', 'packaging_4_shape', 'packaging_4_material', 'packaging_4_recycling', 'packaging_5_shape', 'packaging_6_shape', 'conservation_conditions_de', 'conservation_conditions_en', 'conservation_conditions_es', 'conservation_conditions_fr', 'conservation_conditions_it', 'conservation_conditions_nl', 'conservation_conditions_pl', 'conservation_conditions_ro', 'warning_de', 'warning_en', 'warning_es', 'warning_fr', 'warning_it', 'warning_nl', 'warning_pl', 'preparation_de', 'preparation_en', 'preparation_es', 'preparation_fr', 'preparation_it', 'preparation_nl', 'preparation_pl', 'preparation_ro', 'nutriscore_score_producer', 'nutriscore_grade_producer', 'recipe_idea_es', 'recipe_idea_fr', 'recipe_idea_it', 'recipe_idea_nl', 'recipe_idea_pl', 'recipe_idea_ro', 'customer_service_en', 'customer_service_es', 'customer_service_fr', 'customer_service_it', 'customer_service_nl', 'customer_service_pl', 'customer_service_ro', 'link', 'off:food_groups', 'off:food_groups_tags', 'off:nova_groups', 'off:nova_groups_tags', 'off:nutriscore_grade', 'off:nutriscore_score', 'off:ecoscore_grade', 'off:ecoscore_score', 'off:ecoscore_data.missing_key_data', 'off:ecoscore_data.agribalyse.code', 'off:ecoscore_data.adjustments.origins_of_ingredients.value', 'off:ecoscore_data.adjustments.packaging.value', 'off:ecoscore_data.adjustments.packaging.non_recyclable_and_non_biodegradable_materials', 'off:ecoscore_data.adjustments.production_system.value', 'off:ecoscore_data.adjustments.threatened_species.value', 'sources_fields:org-database-usda:available_date', 'sources_fields:org-database-usda:fdc_category', 'sources_fields:org-database-usda:fdc_data_source', 'sources_fields:org-database-usda:fdc_id', 'sources_fields:org-database-usda:modified_date', 'sources_fields:org-database-usda:publication_date', 'sources_fields:org-gs1:gln', 'sources_fields:org-gs1:gpcCategoryCode', 'sources_fields:org-gs1:gpcCategoryName', 'sources_fields:org-gs1:isAllergenRelevantDataProvided', 'sources_fields:org-gs1:lastChangeDateTime', 'sources_fields:org-gs1:partyName', 'sources_fields:org-gs1:productionVariantDescription', 'sources_fields:org-gs1:publicationDateTime', 'data_sources']\n"
     ]
    }
   ],
   "source": [
    "# Prevent output from being truncated by rows or columns\n",
    "pd.set_option('display.max_rows', None)\n",
    "\n",
    "# Print the list of the columns in the dataset\n",
    "print(data.columns.to_list())"
   ]
  },
  {
   "cell_type": "markdown",
   "metadata": {},
   "source": [
    "Verify that \"code\" is a primary key"
   ]
  },
  {
   "cell_type": "code",
   "execution_count": 4,
   "metadata": {},
   "outputs": [
    {
     "name": "stdout",
     "output_type": "stream",
     "text": [
      "False\n"
     ]
    }
   ],
   "source": [
    "# Check if the number of the rows in the dataset is the same as the number of the unique values in the 'code' column\n",
    "print(data.shape[0] == data['code'].nunique())"
   ]
  },
  {
   "cell_type": "markdown",
   "metadata": {},
   "source": [
    "Find out what the duplicated values are"
   ]
  },
  {
   "cell_type": "code",
   "execution_count": 5,
   "metadata": {},
   "outputs": [
    {
     "name": "stdout",
     "output_type": "stream",
     "text": [
      "               code  producer_product_id producer_version_id  lc  \\\n",
      "5084  5906827017304                  NaN                 NaN  es   \n",
      "5103  5906827017304                  NaN                 NaN  es   \n",
      "\n",
      "     product_name_ar product_name_at product_name_bg product_name_ca  \\\n",
      "5084             NaN             NaN             NaN             NaN   \n",
      "5103             NaN             NaN             NaN             NaN   \n",
      "\n",
      "     product_name_cs product_name_da  ...  \\\n",
      "5084             NaN             NaN  ...   \n",
      "5103             NaN             NaN  ...   \n",
      "\n",
      "     sources_fields:org-database-usda:publication_date  \\\n",
      "5084                                               NaN   \n",
      "5103                                               NaN   \n",
      "\n",
      "     sources_fields:org-gs1:gln sources_fields:org-gs1:gpcCategoryCode  \\\n",
      "5084                        NaN                                    NaN   \n",
      "5103                        NaN                                    NaN   \n",
      "\n",
      "     sources_fields:org-gs1:gpcCategoryName  \\\n",
      "5084                                    NaN   \n",
      "5103                                    NaN   \n",
      "\n",
      "     sources_fields:org-gs1:isAllergenRelevantDataProvided  \\\n",
      "5084                                                NaN      \n",
      "5103                                                NaN      \n",
      "\n",
      "     sources_fields:org-gs1:lastChangeDateTime  \\\n",
      "5084                                       NaN   \n",
      "5103                                       NaN   \n",
      "\n",
      "     sources_fields:org-gs1:partyName  \\\n",
      "5084                              NaN   \n",
      "5103                              NaN   \n",
      "\n",
      "     sources_fields:org-gs1:productionVariantDescription  \\\n",
      "5084                                                NaN    \n",
      "5103                                                NaN    \n",
      "\n",
      "     sources_fields:org-gs1:publicationDateTime data_sources  \n",
      "5084                                        NaN          NaN  \n",
      "5103                                        NaN          NaN  \n",
      "\n",
      "[2 rows x 422 columns]\n"
     ]
    }
   ],
   "source": [
    "# Print the duplicated values in the 'code' column\n",
    "duplicated_codes = data[data.duplicated(subset='code', keep=False)]\n",
    "print(duplicated_codes)\n"
   ]
  },
  {
   "cell_type": "markdown",
   "metadata": {},
   "source": [
    "Compare the values for this duplicated code in the other columns"
   ]
  },
  {
   "cell_type": "code",
   "execution_count": 6,
   "metadata": {},
   "outputs": [
    {
     "name": "stdout",
     "output_type": "stream",
     "text": [
      "               product_name_es  quantity  serving_size  packaging  \\\n",
      "code                                                                \n",
      "5906827017304                2         2             2          2   \n",
      "\n",
      "               packaging_tags  categories  categories_tags  \\\n",
      "code                                                         \n",
      "5906827017304               2           2                2   \n",
      "\n",
      "               ingredients_text_es  energy_value  energy_unit  \\\n",
      "code                                                            \n",
      "5906827017304                    2             2            2   \n",
      "\n",
      "               packaging_1_material  off:ecoscore_grade  \\\n",
      "code                                                      \n",
      "5906827017304                     2                   2   \n",
      "\n",
      "               off:ecoscore_data.adjustments.packaging.value  \\\n",
      "code                                                           \n",
      "5906827017304                                              2   \n",
      "\n",
      "               off:ecoscore_data.adjustments.packaging.non_recyclable_and_non_biodegradable_materials  \n",
      "code                                                                                                   \n",
      "5906827017304                                                  2                                       \n"
     ]
    }
   ],
   "source": [
    "# Check if the values in all columns of these rows are the same\n",
    "duplicated_grouped = duplicated_codes.groupby('code').nunique()\n",
    "\n",
    "# Print the columns with differences in the duplicated rows\n",
    "different_columns = duplicated_grouped.loc[:, (duplicated_grouped > 1).any(axis=0)]\n",
    "print(different_columns)"
   ]
  },
  {
   "cell_type": "markdown",
   "metadata": {},
   "source": [
    "Explore the columns in more detail"
   ]
  },
  {
   "cell_type": "code",
   "execution_count": 7,
   "metadata": {},
   "outputs": [
    {
     "name": "stdout",
     "output_type": "stream",
     "text": [
      "Differences for code 5906827017304:\n",
      "    Column: product_name_es\n",
      "        Row 1: Trendy Lunch\n",
      "        Row 2: Trendy Lunch lentejas verdes con bulgur y cebada\n",
      "    Column: quantity\n",
      "        Row 1: 400g\n",
      "        Row 2: 400 g\n",
      "    Column: serving_size\n",
      "        Row 1: 100g\n",
      "        Row 2: 100 g\n",
      "    Column: packaging\n",
      "        Row 1: Plástico, en:container\n",
      "        Row 2: Caja, en:Cardboard\n",
      "    Column: packaging_tags\n",
      "        Row 1: en:plastic,en:container\n",
      "        Row 2: en:box,en:cardboard\n",
      "    Column: categories\n",
      "        Row 1: Alimentos y bebidas de origen vegetal, Alimentos de origen vegetal, Leguminosas y derivados, Cereales y patatas, Leguminosas, Semillas, Cereales y derivados, Granos de leguminosas, Cereales en grano, Legumbres secas\n",
      "        Row 2: Alimentos y bebidas de origen vegetal, Alimentos de origen vegetal, Leguminosas y derivados, Cereales y patatas, Leguminosas, Semillas, Cereales y derivados, Granos de leguminosas, Legumbres secas, Grañones, Lentejas, Lentejas verdes, Grañones de trigo, Bulgur\n",
      "    Column: categories_tags\n",
      "        Row 1: en:plant-based-foods-and-beverages,en:plant-based-foods,en:legumes-and-their-products,en:cereals-and-potatoes,en:legumes,en:seeds,en:cereals-and-their-products,en:legume-seeds,en:cereal-grains,en:pulses\n",
      "        Row 2: en:plant-based-foods-and-beverages,en:plant-based-foods,en:legumes-and-their-products,en:cereals-and-potatoes,en:legumes,en:seeds,en:cereals-and-their-products,en:legume-seeds,en:pulses,en:groats,en:lentils,en:green-lentils,en:wheat-groats,en:bulgur\n",
      "    Column: ingredients_text_es\n",
      "        Row 1: Lentejas verdes (35%), cebada (35%), bulgur de trigo duro (30%)\n",
      "        Row 2: Lentejas verdes 35%, cebada 35%, bulgur de trigo duro 30%\n",
      "    Column: energy_value\n",
      "        Row 1: 341.0\n",
      "        Row 2: 1415.0\n",
      "    Column: energy_unit\n",
      "        Row 1: kcal\n",
      "        Row 2: kJ\n",
      "    Column: packaging_1_material\n",
      "        Row 1: en:plastic\n",
      "        Row 2: en:cardboard\n",
      "    Column: off:ecoscore_grade\n",
      "        Row 1: unknown\n",
      "        Row 2: a\n",
      "    Column: off:ecoscore_data.adjustments.packaging.value\n",
      "        Row 1: -10\n",
      "        Row 2: -1\n",
      "    Column: off:ecoscore_data.adjustments.packaging.non_recyclable_and_non_biodegradable_materials\n",
      "        Row 1: 1\n",
      "        Row 2: 0\n"
     ]
    }
   ],
   "source": [
    "# Print rows with differences for detailed inspection\n",
    "for code in duplicated_codes['code'].unique():\n",
    "    duplicated_rows = duplicated_codes[duplicated_codes['code'] == code]\n",
    "    if not duplicated_rows.iloc[0].equals(duplicated_rows.iloc[1]):\n",
    "        print(f\"Differences for code {code}:\")\n",
    "        # Iterate over columns and print only the columns where values are different\n",
    "        for column in different_columns.columns:\n",
    "            value_row1 = duplicated_rows.iloc[0][column]\n",
    "            value_row2 = duplicated_rows.iloc[1][column]\n",
    "            # Check for NaN values\n",
    "            if pd.isna(value_row1) and pd.isna(value_row2):\n",
    "                continue  # Skip if both are NaN\n",
    "            if value_row1 != value_row2:\n",
    "                print(f\"    Column: {column}\")\n",
    "                print(f\"        Row 1: {value_row1}\")\n",
    "                print(f\"        Row 2: {value_row2}\")\n"
   ]
  },
  {
   "cell_type": "markdown",
   "metadata": {},
   "source": [
    "In the provided output, Row 2 seems to have more detailed information in several columns (e.g., 'product_name_es', 'categories', 'ingredients_text_es'). So we will keep this row and delete the other one."
   ]
  },
  {
   "cell_type": "code",
   "execution_count": 8,
   "metadata": {},
   "outputs": [
    {
     "name": "stdout",
     "output_type": "stream",
     "text": [
      "True\n"
     ]
    }
   ],
   "source": [
    "# Filter out duplicate rows based on the 'code' column, keeping the second occurrence\n",
    "data_no_duplicates = data.drop_duplicates(subset='code', keep='last')\n",
    "\n",
    "# Check if the number of the rows in the new dataset is the same as the number of the unique values in the 'code' column\n",
    "print(data_no_duplicates.shape[0] == data_no_duplicates['code'].nunique())"
   ]
  },
  {
   "cell_type": "markdown",
   "metadata": {},
   "source": [
    "Delete the columns that are not interesting for the analysis.\n",
    "\n",
    "I decided to drop columns related to product identifiers, language-specific names, ingredient texts, unused or less relevant information such as conservation conditions, warnings, preparations, recipes, customer service, and links. These columns were deemed less essential for the main analysis goals of nutritional analysis, regional analysis, and comparing food categories.\n",
    "\n",
    "Having fewer columns should help analyze the structure of the dataframe better."
   ]
  },
  {
   "cell_type": "code",
   "execution_count": 9,
   "metadata": {},
   "outputs": [],
   "source": [
    "# List of columns to drop\n",
    "columns_to_drop = [\n",
    "    'producer_product_id', 'producer_version_id', 'emb_codes', 'emb_codes_tags',\n",
    "    'product_name_ar', 'product_name_at', 'product_name_bg', 'product_name_ca', 'product_name_cs', \n",
    "    'product_name_da', 'product_name_de', 'product_name_el', 'product_name_et', 'product_name_fa', \n",
    "    'product_name_fi', 'product_name_fr', 'product_name_hr', 'product_name_hu', 'product_name_it', \n",
    "    'product_name_ko', 'product_name_la', 'product_name_lt', 'product_name_lv', 'product_name_nb', \n",
    "    'product_name_nl', 'product_name_no', 'product_name_pl', 'product_name_pt', 'product_name_ro', \n",
    "    'product_name_ru', 'product_name_sk', 'product_name_sl', 'product_name_sr', 'product_name_sv', \n",
    "    'product_name_tr', 'product_name_uk', 'product_name_xx', 'product_name_zh', 'abbreviated_product_name_fr', \n",
    "    'generic_name_ar', 'generic_name_bg', 'generic_name_bs', 'generic_name_ca', 'generic_name_cs', \n",
    "    'generic_name_da', 'generic_name_de', 'generic_name_el', 'generic_name_et', 'generic_name_fi', \n",
    "    'generic_name_fr', 'generic_name_hr', 'generic_name_hu', 'generic_name_it', 'generic_name_lt', \n",
    "    'generic_name_lv', 'generic_name_nl', 'generic_name_no', 'generic_name_pl', 'generic_name_pt', \n",
    "    'generic_name_ro', 'generic_name_ru', 'generic_name_sk', 'generic_name_sl', 'generic_name_sr', \n",
    "    'generic_name_sv', 'ingredients_text_ar', 'ingredients_text_bg', 'ingredients_text_bs', 'ingredients_text_ca', \n",
    "    'ingredients_text_cs', 'ingredients_text_da', 'ingredients_text_de', 'ingredients_text_el', 'ingredients_text_et', \n",
    "    'ingredients_text_fi', 'ingredients_text_fr', 'ingredients_text_gl', 'ingredients_text_hr', 'ingredients_text_hu', \n",
    "    'ingredients_text_it', 'ingredients_text_la', 'ingredients_text_lt', 'ingredients_text_lv', 'ingredients_text_nl', \n",
    "    'ingredients_text_no', 'ingredients_text_pl', 'ingredients_text_pt', 'ingredients_text_ro', 'ingredients_text_ru', \n",
    "    'ingredients_text_sk', 'ingredients_text_sl', 'ingredients_text_sr', 'ingredients_text_sv', 'ingredients_text_uk', \n",
    "    'ingredients_text_zh',\n",
    "    'lc', 'obsolete', 'obsolete_since_date', 'origin_de', 'origin_en', 'origin_es', 'origin_fr', 'origin_it', \n",
    "    'origin_nl', 'conservation_conditions_de', 'conservation_conditions_en', 'conservation_conditions_es', \n",
    "    'conservation_conditions_fr', 'conservation_conditions_it', 'conservation_conditions_nl', \n",
    "    'conservation_conditions_pl', 'conservation_conditions_ro', 'warning_de', 'warning_en', 'warning_es', \n",
    "    'warning_fr', 'warning_it', 'warning_nl', 'warning_pl', 'preparation_de', 'preparation_en', 'preparation_es', \n",
    "    'preparation_fr', 'preparation_it', 'preparation_nl', 'preparation_pl', 'preparation_ro', 'recipe_idea_es', \n",
    "    'recipe_idea_fr', 'recipe_idea_it', 'recipe_idea_nl', 'recipe_idea_pl', 'recipe_idea_ro', 'customer_service_en', \n",
    "    'customer_service_es', 'customer_service_fr', 'customer_service_it', 'customer_service_nl', 'customer_service_pl', \n",
    "    'customer_service_ro', 'link'\n",
    "]\n",
    "\n",
    "# Drop specified columns from data_no_duplicates\n",
    "data_filtered_columns = data_no_duplicates.drop(columns=columns_to_drop)"
   ]
  },
  {
   "cell_type": "markdown",
   "metadata": {},
   "source": [
    "Let's also drop the columns with more than 70% NaN values, which is a common threshold."
   ]
  },
  {
   "cell_type": "code",
   "execution_count": 10,
   "metadata": {},
   "outputs": [],
   "source": [
    "# Calculate the percentage of NaN values in each column\n",
    "nan_percentages = (data_filtered_columns.isnull().sum() / len(data_filtered_columns)) * 100\n",
    "\n",
    "# Filter columns where NaN percentage is greater than 70%\n",
    "columns_to_drop = nan_percentages[nan_percentages > 70].index\n",
    "\n",
    "# Drop the columns from the DataFrame\n",
    "data_filtered_columns = data_filtered_columns.drop(columns=columns_to_drop, axis=1)"
   ]
  },
  {
   "cell_type": "markdown",
   "metadata": {},
   "source": [
    "Explore the distribution of the values in the remaining columns"
   ]
  },
  {
   "cell_type": "code",
   "execution_count": 11,
   "metadata": {},
   "outputs": [
    {
     "name": "stdout",
     "output_type": "stream",
     "text": [
      "       energy-kcal_value    fat_value  saturated-fat_value  \\\n",
      "count        6076.000000  6224.000000          6199.000000   \n",
      "mean          339.218233     7.650505             1.876913   \n",
      "std           132.708114    12.681262             3.192181   \n",
      "min             0.000000     0.000000             0.000000   \n",
      "25%           341.000000     1.500000             0.300000   \n",
      "50%           357.000000     2.600000             0.500000   \n",
      "75%           388.000000     7.600000             1.800000   \n",
      "max          1458.000000   100.000000            62.290000   \n",
      "\n",
      "       carbohydrates_value  sugars_value  fiber_value  proteins_value  \\\n",
      "count          6221.000000   6188.000000  3116.000000     6224.000000   \n",
      "mean             55.752087      7.013855     5.574097        9.400642   \n",
      "std              25.263235      9.631113     5.719943        5.779414   \n",
      "min               0.000000      0.000000     0.000000        0.000000   \n",
      "25%              40.700001      0.900000     2.100000        6.500000   \n",
      "50%              66.000000      3.000000     4.000000        9.000000   \n",
      "75%              74.000000      7.500000     7.600000       12.000000   \n",
      "max              93.500000     83.000000    63.000000       80.000000   \n",
      "\n",
      "        salt_value  sodium_value  energy_value  off:nova_groups  \\\n",
      "count  5930.000000   5930.000000   6222.000000      2683.000000   \n",
      "mean      6.061229      2.424492    597.049360         2.720835   \n",
      "std      67.993161     27.197264    527.843002         1.334159   \n",
      "min       0.000000      0.000000      0.000000         1.000000   \n",
      "25%       0.017000      0.006800    344.000000         1.000000   \n",
      "50%       0.100000      0.040000    374.000000         3.000000   \n",
      "75%       0.650000      0.260000    517.000000         4.000000   \n",
      "max    1905.000000    762.000000   3720.000000         4.000000   \n",
      "\n",
      "       off:nutriscore_score  off:ecoscore_score  \\\n",
      "count           5802.000000         4894.000000   \n",
      "mean               2.996036           45.503269   \n",
      "std                7.150715           23.410262   \n",
      "min              -11.000000          -20.000000   \n",
      "25%               -1.000000           25.000000   \n",
      "50%                0.000000           43.000000   \n",
      "75%                8.000000           65.000000   \n",
      "max               29.000000          114.000000   \n",
      "\n",
      "       off:ecoscore_data.missing_key_data  \\\n",
      "count                              5022.0   \n",
      "mean                                  1.0   \n",
      "std                                   0.0   \n",
      "min                                   1.0   \n",
      "25%                                   1.0   \n",
      "50%                                   1.0   \n",
      "75%                                   1.0   \n",
      "max                                   1.0   \n",
      "\n",
      "       off:ecoscore_data.adjustments.origins_of_ingredients.value  \\\n",
      "count                                        6609.000000            \n",
      "mean                                           -4.669995            \n",
      "std                                             1.545088            \n",
      "min                                            -5.000000            \n",
      "25%                                            -5.000000            \n",
      "50%                                            -5.000000            \n",
      "75%                                            -5.000000            \n",
      "max                                             5.000000            \n",
      "\n",
      "       off:ecoscore_data.adjustments.packaging.value  \\\n",
      "count                                    6609.000000   \n",
      "mean                                      -13.531245   \n",
      "std                                         3.153743   \n",
      "min                                       -15.000000   \n",
      "25%                                       -15.000000   \n",
      "50%                                       -15.000000   \n",
      "75%                                       -15.000000   \n",
      "max                                        -1.000000   \n",
      "\n",
      "       off:ecoscore_data.adjustments.packaging.non_recyclable_and_non_biodegradable_materials  \\\n",
      "count                                        6609.000000                                        \n",
      "mean                                            0.907399                                        \n",
      "std                                             0.295581                                        \n",
      "min                                             0.000000                                        \n",
      "25%                                             1.000000                                        \n",
      "50%                                             1.000000                                        \n",
      "75%                                             1.000000                                        \n",
      "max                                             2.000000                                        \n",
      "\n",
      "       off:ecoscore_data.adjustments.production_system.value  \n",
      "count                                        6609.000000      \n",
      "mean                                            3.070056      \n",
      "std                                             6.064232      \n",
      "min                                             0.000000      \n",
      "25%                                             0.000000      \n",
      "50%                                             0.000000      \n",
      "75%                                             0.000000      \n",
      "max                                            20.000000      \n",
      "<class 'pandas.core.frame.DataFrame'>\n",
      "Index: 6609 entries, 0 to 6609\n",
      "Data columns (total 53 columns):\n",
      " #   Column                                                                                  Non-Null Count  Dtype  \n",
      "---  ------                                                                                  --------------  -----  \n",
      " 0   code                                                                                    6609 non-null   object \n",
      " 1   product_name_es                                                                         5614 non-null   object \n",
      " 2   quantity                                                                                3678 non-null   object \n",
      " 3   brands                                                                                  5895 non-null   object \n",
      " 4   brands_tags                                                                             5895 non-null   object \n",
      " 5   categories                                                                              6609 non-null   object \n",
      " 6   categories_tags                                                                         6609 non-null   object \n",
      " 7   labels                                                                                  3940 non-null   object \n",
      " 8   labels_tags                                                                             3940 non-null   object \n",
      " 9   countries                                                                               6609 non-null   object \n",
      " 10  countries_tags                                                                          6609 non-null   object \n",
      " 11  stores                                                                                  2271 non-null   object \n",
      " 12  stores_tags                                                                             2271 non-null   object \n",
      " 13  ingredients_text_es                                                                     2389 non-null   object \n",
      " 14  allergens                                                                               2047 non-null   object \n",
      " 15  allergens_tags                                                                          2047 non-null   object \n",
      " 16  nutrition_data_per                                                                      6609 non-null   object \n",
      " 17  nutrition_data_prepared_per                                                             6609 non-null   object \n",
      " 18  energy-kcal_value                                                                       6076 non-null   float64\n",
      " 19  energy-kcal_unit                                                                        6087 non-null   object \n",
      " 20  fat_value                                                                               6224 non-null   float64\n",
      " 21  fat_unit                                                                                6209 non-null   object \n",
      " 22  saturated-fat_value                                                                     6199 non-null   float64\n",
      " 23  saturated-fat_unit                                                                      6182 non-null   object \n",
      " 24  carbohydrates_value                                                                     6221 non-null   float64\n",
      " 25  carbohydrates_unit                                                                      6206 non-null   object \n",
      " 26  sugars_value                                                                            6188 non-null   float64\n",
      " 27  sugars_unit                                                                             6171 non-null   object \n",
      " 28  fiber_value                                                                             3116 non-null   float64\n",
      " 29  fiber_unit                                                                              3114 non-null   object \n",
      " 30  proteins_value                                                                          6224 non-null   float64\n",
      " 31  proteins_unit                                                                           6208 non-null   object \n",
      " 32  salt_value                                                                              5930 non-null   float64\n",
      " 33  salt_unit                                                                               5912 non-null   object \n",
      " 34  sodium_value                                                                            5930 non-null   float64\n",
      " 35  sodium_unit                                                                             5942 non-null   object \n",
      " 36  energy_value                                                                            6222 non-null   float64\n",
      " 37  energy_unit                                                                             6222 non-null   object \n",
      " 38  off:food_groups                                                                         6609 non-null   object \n",
      " 39  off:food_groups_tags                                                                    6609 non-null   object \n",
      " 40  off:nova_groups                                                                         2683 non-null   float64\n",
      " 41  off:nova_groups_tags                                                                    6609 non-null   object \n",
      " 42  off:nutriscore_grade                                                                    6609 non-null   object \n",
      " 43  off:nutriscore_score                                                                    5802 non-null   float64\n",
      " 44  off:ecoscore_grade                                                                      6609 non-null   object \n",
      " 45  off:ecoscore_score                                                                      4894 non-null   float64\n",
      " 46  off:ecoscore_data.missing_key_data                                                      5022 non-null   float64\n",
      " 47  off:ecoscore_data.agribalyse.code                                                       4894 non-null   object \n",
      " 48  off:ecoscore_data.adjustments.origins_of_ingredients.value                              6609 non-null   int64  \n",
      " 49  off:ecoscore_data.adjustments.packaging.value                                           6609 non-null   int64  \n",
      " 50  off:ecoscore_data.adjustments.packaging.non_recyclable_and_non_biodegradable_materials  6609 non-null   int64  \n",
      " 51  off:ecoscore_data.adjustments.production_system.value                                   6609 non-null   int64  \n",
      " 52  data_sources                                                                            6410 non-null   object \n",
      "dtypes: float64(14), int64(4), object(35)\n",
      "memory usage: 2.7+ MB\n",
      "None\n"
     ]
    }
   ],
   "source": [
    "# Get basic statistics\n",
    "print(data_filtered_columns.describe())\n",
    "\n",
    "# Get information about the dataset\n",
    "print(data_filtered_columns.info())"
   ]
  },
  {
   "cell_type": "code",
   "execution_count": 12,
   "metadata": {},
   "outputs": [
    {
     "name": "stdout",
     "output_type": "stream",
     "text": [
      "[nan  1.]\n"
     ]
    }
   ],
   "source": [
    "# Unique values in this column off:ecoscore_data.missing_key_data\n",
    "print(data_filtered_columns['off:ecoscore_data.missing_key_data'].unique())"
   ]
  },
  {
   "cell_type": "markdown",
   "metadata": {},
   "source": [
    "Interesting insight: after these adjustments the key ecoscore data is missing for all products."
   ]
  },
  {
   "cell_type": "code",
   "execution_count": 13,
   "metadata": {},
   "outputs": [
    {
     "name": "stdout",
     "output_type": "stream",
     "text": [
      "['code', 'product_name_es', 'quantity', 'brands', 'brands_tags', 'categories', 'categories_tags', 'labels', 'labels_tags', 'countries', 'countries_tags', 'stores', 'stores_tags', 'ingredients_text_es', 'allergens', 'allergens_tags', 'nutrition_data_per', 'nutrition_data_prepared_per', 'energy-kcal_value', 'energy-kcal_unit', 'fat_value', 'fat_unit', 'saturated-fat_value', 'saturated-fat_unit', 'carbohydrates_value', 'carbohydrates_unit', 'sugars_value', 'sugars_unit', 'fiber_value', 'fiber_unit', 'proteins_value', 'proteins_unit', 'salt_value', 'salt_unit', 'sodium_value', 'sodium_unit', 'energy_value', 'energy_unit', 'off:food_groups', 'off:food_groups_tags', 'off:nova_groups', 'off:nova_groups_tags', 'off:nutriscore_grade', 'off:nutriscore_score', 'off:ecoscore_grade', 'off:ecoscore_score', 'off:ecoscore_data.missing_key_data', 'off:ecoscore_data.agribalyse.code', 'off:ecoscore_data.adjustments.origins_of_ingredients.value', 'off:ecoscore_data.adjustments.packaging.value', 'off:ecoscore_data.adjustments.packaging.non_recyclable_and_non_biodegradable_materials', 'off:ecoscore_data.adjustments.production_system.value', 'data_sources']\n"
     ]
    }
   ],
   "source": [
    "# Give me the list of columns in the dataset\n",
    "print(data_filtered_columns.columns.to_list())"
   ]
  },
  {
   "cell_type": "code",
   "execution_count": 14,
   "metadata": {},
   "outputs": [
    {
     "data": {
      "text/plain": [
       "'en:belgium,en:france,en:french-polynesia,en:germany,en:guadeloupe,en:italy,en:martinique,en:reunion,en:slovenia,en:spain,en:switzerland,en:united-kingdom'"
      ]
     },
     "execution_count": 14,
     "metadata": {},
     "output_type": "execute_result"
    }
   ],
   "source": [
    "data_filtered_columns.loc[0, 'countries_tags']"
   ]
  },
  {
   "cell_type": "code",
   "execution_count": 15,
   "metadata": {},
   "outputs": [
    {
     "name": "stdout",
     "output_type": "stream",
     "text": [
      "['Belgique', ' France', ' Polynésie française', ' Allemagne', ' Guadeloupe', ' Italie', ' Martinique', ' La Réunion', ' Slovénie', ' Espagne', ' Suisse', ' Royaume-Uni']\n"
     ]
    }
   ],
   "source": [
    "# Accessing the 'countries' column from the first row of the DataFrame\n",
    "countries_value = data_filtered_columns.loc[0, 'countries']\n",
    "\n",
    "# Splitting the values if they are strings\n",
    "if isinstance(countries_value, str):\n",
    "    countries_list = countries_value.split(',')\n",
    "    print(countries_list)\n",
    "else:\n",
    "    print(\"Value is not a string.\")"
   ]
  },
  {
   "cell_type": "code",
   "execution_count": 16,
   "metadata": {},
   "outputs": [],
   "source": [
    "# Save the current DataFrame to a new CSV file\n",
    "data_filtered_columns.to_csv('cereal_spain_cleaned_v0.csv', index=False)"
   ]
  }
 ],
 "metadata": {
  "kernelspec": {
   "display_name": "prototyping",
   "language": "python",
   "name": "python3"
  },
  "language_info": {
   "codemirror_mode": {
    "name": "ipython",
    "version": 3
   },
   "file_extension": ".py",
   "mimetype": "text/x-python",
   "name": "python",
   "nbconvert_exporter": "python",
   "pygments_lexer": "ipython3",
   "version": "3.12.0"
  }
 },
 "nbformat": 4,
 "nbformat_minor": 2
}
